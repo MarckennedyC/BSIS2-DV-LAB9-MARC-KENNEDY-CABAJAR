{
  "nbformat": 4,
  "nbformat_minor": 0,
  "metadata": {
    "colab": {
      "provenance": [],
      "authorship_tag": "ABX9TyMLnYfmbd7LH58Zc3j5K2qz",
      "include_colab_link": true
    },
    "kernelspec": {
      "name": "python3",
      "display_name": "Python 3"
    },
    "language_info": {
      "name": "python"
    }
  },
  "cells": [
    {
      "cell_type": "markdown",
      "metadata": {
        "id": "view-in-github",
        "colab_type": "text"
      },
      "source": [
        "<a href=\"https://colab.research.google.com/github/MarckennedyC/BSIS2-DV-LAB9-MARC-KENNEDY-CABAJAR/blob/main/Untitled18.ipynb\" target=\"_parent\"><img src=\"https://colab.research.google.com/assets/colab-badge.svg\" alt=\"Open In Colab\"/></a>"
      ]
    },
    {
      "cell_type": "code",
      "execution_count": 2,
      "metadata": {
        "colab": {
          "base_uri": "https://localhost:8080/"
        },
        "id": "THFh_Ot3PkkX",
        "outputId": "c688a3e4-ffdd-4915-b2f2-e7c25736511f"
      },
      "outputs": [
        {
          "output_type": "stream",
          "name": "stdout",
          "text": [
            "()\n",
            "(3, 7, 4, 2, 5)\n",
            "<class 'str'>\n",
            "3\n",
            "2\n",
            "(3, 7)\n",
            "(3, 7, 4)\n",
            "0 lander\n",
            "1 aaron\n",
            "2 romeo\n",
            "3 tanggol\n"
          ]
        }
      ],
      "source": [
        "emptyTuple=()\n",
        "print(emptyTuple)\n",
        "z=(3,7,4,2,5)\n",
        "print(z)\n",
        "tup1=('Marc kennedy',)\n",
        "tup2='Marc kennedy',\n",
        "notTuple=('Marc kennedy')\n",
        "print(type(notTuple))\n",
        "z=(3,7,4,2)\n",
        "print(z[0])\n",
        "z=(3,7,4,2)\n",
        "print(z[-1])\n",
        "z=(3,7,4,2)\n",
        "print(z[0:2])\n",
        "z=(3,7,4,2)\n",
        "print(z[:3])\n",
        "friends=('lander','aaron','romeo','tanggol')\n",
        "for index, friends in enumerate(friends):\n",
        "   print(index,friends)"
      ]
    }
  ]
}